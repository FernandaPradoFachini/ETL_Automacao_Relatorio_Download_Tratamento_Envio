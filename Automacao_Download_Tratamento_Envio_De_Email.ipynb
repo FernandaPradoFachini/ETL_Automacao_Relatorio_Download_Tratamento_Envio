{
 "cells": [
  {
   "cell_type": "markdown",
   "metadata": {},
   "source": [
    "# Automação de Sistemas e Processos com Python"
   ]
  },
  {
   "cell_type": "code",
   "execution_count": 1,
   "metadata": {},
   "outputs": [],
   "source": [
    "#instalar bibliotecas:\n",
    "#!pip install pyautogui\n",
    "#!pip install pyperclip"
   ]
  },
  {
   "cell_type": "code",
   "execution_count": 2,
   "metadata": {},
   "outputs": [],
   "source": [
    "import pyautogui\n",
    "import pyperclip\n",
    "import time"
   ]
  },
  {
   "cell_type": "code",
   "execution_count": 3,
   "metadata": {},
   "outputs": [],
   "source": [
    "#1 entrar no sistema (no caso link fo drive)\n",
    "#pausar um sengundo apos cada comendo pyautogui:\n",
    "pyautogui.PAUSE = 1\n",
    "\n",
    "#hotkey = atalho\n",
    "pyautogui.hotkey('ctrl','t')\n",
    "#usar pyperclip para copiar link\n",
    "pyperclip.copy('https://drive.google.com/drive/folders/1fQjNlPhEMym9Vdaf9fV68DthEllTdmae?usp=sharing')\n",
    "pyautogui.hotkey('ctrl', 'v')\n",
    "pyautogui.press('enter')\n",
    "\n",
    "#2 navegar ate o local do relatorio e entrar na pasta\n",
    "#- localizar posicao do mouse codigo a baixo\n",
    "time.sleep(5) #dar tempo de 5 segundos para a pagina carregar para executar proximo comando\n",
    "pyautogui.click(x=332, y=254,clicks=2) #clicar na pasta onde esta o arquivo\n",
    "time.sleep(2)\n",
    "\n",
    "#3 fazer o download do relatorio\n",
    "#- localizar posicao do mouse codigo a baixo\n",
    "#pyautogui.rightClick(x=355, y=253)\n",
    "pyautogui.click(x=355, y=253, button ='right')\n",
    "#time.sleep(1)\n",
    "pyautogui.click(x=515, y=763)\n",
    "time.sleep(5)\n",
    "pyautogui.click(x=722, y=768)"
   ]
  },
  {
   "cell_type": "code",
   "execution_count": null,
   "metadata": {},
   "outputs": [],
   "source": [
    "#codigo para encontrar a posicao do mause\n",
    "#time.sleep(5) #5 segundos para posicionar o mause\n",
    "#pyautogui.position() #comando"
   ]
  },
  {
   "cell_type": "markdown",
   "metadata": {},
   "source": [
    "### Ler o arquivo baixado para pegar os indicadores\n",
    "\n",
    "- Faturamento\n",
    "- Quantidade de Produtos"
   ]
  },
  {
   "cell_type": "code",
   "execution_count": 4,
   "metadata": {},
   "outputs": [],
   "source": [
    "#4 calcular indicadores (faturamento e quantidade de produtos vendidos)\n",
    "#pandas, numpy e openpyxl\n",
    "# se tivesse mais abas:\n",
    "#df = pd.read_excel(r'C:\\Users\\user\\Downloads\\Vendas - Dez.xlsx', sheets='NomeDaAba')\n",
    "import pandas as pd\n",
    "df = pd.read_excel(r'C:\\Users\\user\\Downloads\\Vendas - Dez.xlsx')\n",
    "\n",
    "faturamento = df['Valor Final'].sum()\n",
    "quantidade = df['Quantidade'].sum()"
   ]
  },
  {
   "cell_type": "markdown",
   "metadata": {},
   "source": [
    "### Enviar um e-mail pelo gmail"
   ]
  },
  {
   "cell_type": "code",
   "execution_count": 5,
   "metadata": {},
   "outputs": [],
   "source": [
    "#5 enviar o email para a diretoria\n",
    "pyautogui.PAUSE = 1\n",
    "\n",
    "#hotkey = atalho\n",
    "pyautogui.hotkey('ctrl','t')\n",
    "pyperclip.copy('https://mail.google.com/mail/u/0/?ogbl#inbox')\n",
    "pyautogui.hotkey('ctrl','v')\n",
    "pyautogui.press('enter')\n",
    "\n",
    "time.sleep(5)\n",
    "#clicar em escrever\n",
    "pyautogui.click(x=86, y=176)\n",
    "time.sleep(2)\n",
    "\n",
    "#escrever destinatario\n",
    "pyautogui.write('Empresa_Diretoria@gmail.com')\n",
    "pyautogui.press('tab')\n",
    "pyautogui.write('Empresa_Gerencia@gmail.com')\n",
    "pyautogui.press('tab')\n",
    "pyautogui.press('tab')\n",
    "#escrever assunto\n",
    "from datetime import date\n",
    "today = date.today()\n",
    "# dd/mm/YY\n",
    "date = today.strftime(\"%d/%m/%Y\")\n",
    "pyautogui.write(f'Relatorio de vandas {date}')\n",
    "pyautogui.press('tab')\n",
    "texto = f'''Prezados, bom dia\n",
    "O faturamento de ontem foi de: R${faturamento:,.2f}\n",
    "E a quantidade de vendas de: R${quantidade:,}\n",
    "\n",
    "Abs\n",
    "Fernanda\n",
    "'''\n",
    "pyperclip.copy(texto)\n",
    "pyautogui.hotkey('ctrl','v')\n",
    "\n",
    "#clicar no botão enviar\n",
    "pyautogui.hotkey('ctrl','enter')"
   ]
  },
  {
   "cell_type": "code",
   "execution_count": null,
   "metadata": {},
   "outputs": [],
   "source": [
    "#codigo para encontrar a posicao do mause\n",
    "#time.sleep(5) #5 segundos para posicionar o mause\n",
    "#pyautogui.position() #comando"
   ]
  }
 ],
 "metadata": {
  "kernelspec": {
   "display_name": "Python 3",
   "language": "python",
   "name": "python3"
  },
  "language_info": {
   "codemirror_mode": {
    "name": "ipython",
    "version": 3
   },
   "file_extension": ".py",
   "mimetype": "text/x-python",
   "name": "python",
   "nbconvert_exporter": "python",
   "pygments_lexer": "ipython3",
   "version": "3.8.8"
  }
 },
 "nbformat": 4,
 "nbformat_minor": 4
}
